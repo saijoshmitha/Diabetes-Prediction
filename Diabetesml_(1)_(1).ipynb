{
  "nbformat": 4,
  "nbformat_minor": 0,
  "metadata": {
    "colab": {
      "name": "Diabetesml_(1)_(1).ipynb",
      "provenance": []
    },
    "kernelspec": {
      "display_name": "Python 3",
      "name": "python3"
    }
  },
  "cells": [
    {
      "cell_type": "code",
      "metadata": {
        "id": "Bsw2x3ScJ-af"
      },
      "source": [
        "import pandas as pd\n",
        "import numpy as np\n",
        "from sklearn.model_selection import GridSearchCV\n",
        "from sklearn.neighbors import KNeighborsClassifier\n",
        "from sklearn.ensemble import VotingClassifier, RandomForestClassifier\n",
        "from sklearn.linear_model import LogisticRegression\n",
        "from sklearn.metrics import accuracy_score,confusion_matrix,precision_score,recall_score,f1_score,roc_auc_score,roc_curve\n",
        "from sklearn.model_selection import train_test_split,cross_val_score,RandomizedSearchCV\n",
        "import matplotlib.pyplot as plt\n",
        "import seaborn as sns"
      ],
      "execution_count": null,
      "outputs": []
    },
    {
      "cell_type": "code",
      "metadata": {
        "colab": {
          "base_uri": "https://localhost:8080/",
          "height": 206
        },
        "id": "AQ7ML66fKHMT",
        "outputId": "c799e811-362f-43f0-d1de-9085b5320ed1"
      },
      "source": [
        "df = pd.read_csv('/content/diabetes1.csv')\n",
        "df.head()"
      ],
      "execution_count": null,
      "outputs": [
        {
          "output_type": "execute_result",
          "data": {
            "text/html": [
              "<div>\n",
              "<style scoped>\n",
              "    .dataframe tbody tr th:only-of-type {\n",
              "        vertical-align: middle;\n",
              "    }\n",
              "\n",
              "    .dataframe tbody tr th {\n",
              "        vertical-align: top;\n",
              "    }\n",
              "\n",
              "    .dataframe thead th {\n",
              "        text-align: right;\n",
              "    }\n",
              "</style>\n",
              "<table border=\"1\" class=\"dataframe\">\n",
              "  <thead>\n",
              "    <tr style=\"text-align: right;\">\n",
              "      <th></th>\n",
              "      <th>glucose</th>\n",
              "      <th>diastolic</th>\n",
              "      <th>triceps</th>\n",
              "      <th>insulin</th>\n",
              "      <th>bmi</th>\n",
              "      <th>dpf</th>\n",
              "      <th>age</th>\n",
              "      <th>diabetes</th>\n",
              "    </tr>\n",
              "  </thead>\n",
              "  <tbody>\n",
              "    <tr>\n",
              "      <th>0</th>\n",
              "      <td>148</td>\n",
              "      <td>72</td>\n",
              "      <td>35.0</td>\n",
              "      <td>0.0</td>\n",
              "      <td>33.6</td>\n",
              "      <td>0.627</td>\n",
              "      <td>50</td>\n",
              "      <td>1</td>\n",
              "    </tr>\n",
              "    <tr>\n",
              "      <th>1</th>\n",
              "      <td>85</td>\n",
              "      <td>66</td>\n",
              "      <td>29.0</td>\n",
              "      <td>0.0</td>\n",
              "      <td>26.6</td>\n",
              "      <td>0.351</td>\n",
              "      <td>31</td>\n",
              "      <td>0</td>\n",
              "    </tr>\n",
              "    <tr>\n",
              "      <th>2</th>\n",
              "      <td>183</td>\n",
              "      <td>64</td>\n",
              "      <td>0.0</td>\n",
              "      <td>0.0</td>\n",
              "      <td>23.3</td>\n",
              "      <td>0.672</td>\n",
              "      <td>32</td>\n",
              "      <td>1</td>\n",
              "    </tr>\n",
              "    <tr>\n",
              "      <th>3</th>\n",
              "      <td>89</td>\n",
              "      <td>66</td>\n",
              "      <td>23.0</td>\n",
              "      <td>94.0</td>\n",
              "      <td>28.1</td>\n",
              "      <td>0.167</td>\n",
              "      <td>21</td>\n",
              "      <td>0</td>\n",
              "    </tr>\n",
              "    <tr>\n",
              "      <th>4</th>\n",
              "      <td>137</td>\n",
              "      <td>40</td>\n",
              "      <td>35.0</td>\n",
              "      <td>168.0</td>\n",
              "      <td>43.1</td>\n",
              "      <td>2.288</td>\n",
              "      <td>33</td>\n",
              "      <td>1</td>\n",
              "    </tr>\n",
              "  </tbody>\n",
              "</table>\n",
              "</div>"
            ],
            "text/plain": [
              "   glucose  diastolic  triceps  insulin   bmi    dpf  age  diabetes\n",
              "0      148         72     35.0      0.0  33.6  0.627   50         1\n",
              "1       85         66     29.0      0.0  26.6  0.351   31         0\n",
              "2      183         64      0.0      0.0  23.3  0.672   32         1\n",
              "3       89         66     23.0     94.0  28.1  0.167   21         0\n",
              "4      137         40     35.0    168.0  43.1  2.288   33         1"
            ]
          },
          "metadata": {
            "tags": []
          },
          "execution_count": 16
        }
      ]
    },
    {
      "cell_type": "code",
      "metadata": {
        "colab": {
          "base_uri": "https://localhost:8080/",
          "height": 206
        },
        "id": "WR0TPMgXU5Au",
        "outputId": "eb15e5af-c82f-434c-a44c-a831d0c4e30f"
      },
      "source": [
        "df.tail()"
      ],
      "execution_count": null,
      "outputs": [
        {
          "output_type": "execute_result",
          "data": {
            "text/html": [
              "<div>\n",
              "<style scoped>\n",
              "    .dataframe tbody tr th:only-of-type {\n",
              "        vertical-align: middle;\n",
              "    }\n",
              "\n",
              "    .dataframe tbody tr th {\n",
              "        vertical-align: top;\n",
              "    }\n",
              "\n",
              "    .dataframe thead th {\n",
              "        text-align: right;\n",
              "    }\n",
              "</style>\n",
              "<table border=\"1\" class=\"dataframe\">\n",
              "  <thead>\n",
              "    <tr style=\"text-align: right;\">\n",
              "      <th></th>\n",
              "      <th>glucose</th>\n",
              "      <th>diastolic</th>\n",
              "      <th>triceps</th>\n",
              "      <th>insulin</th>\n",
              "      <th>bmi</th>\n",
              "      <th>dpf</th>\n",
              "      <th>age</th>\n",
              "      <th>diabetes</th>\n",
              "    </tr>\n",
              "  </thead>\n",
              "  <tbody>\n",
              "    <tr>\n",
              "      <th>1090</th>\n",
              "      <td>133</td>\n",
              "      <td>102</td>\n",
              "      <td>28.0</td>\n",
              "      <td>140.0</td>\n",
              "      <td>32.8</td>\n",
              "      <td>0.234</td>\n",
              "      <td>45</td>\n",
              "      <td>1</td>\n",
              "    </tr>\n",
              "    <tr>\n",
              "      <th>1091</th>\n",
              "      <td>173</td>\n",
              "      <td>82</td>\n",
              "      <td>48.0</td>\n",
              "      <td>465.0</td>\n",
              "      <td>38.4</td>\n",
              "      <td>2.137</td>\n",
              "      <td>25</td>\n",
              "      <td>1</td>\n",
              "    </tr>\n",
              "    <tr>\n",
              "      <th>1092</th>\n",
              "      <td>118</td>\n",
              "      <td>64</td>\n",
              "      <td>23.0</td>\n",
              "      <td>89.0</td>\n",
              "      <td>0.0</td>\n",
              "      <td>1.731</td>\n",
              "      <td>21</td>\n",
              "      <td>0</td>\n",
              "    </tr>\n",
              "    <tr>\n",
              "      <th>1093</th>\n",
              "      <td>84</td>\n",
              "      <td>64</td>\n",
              "      <td>22.0</td>\n",
              "      <td>66.0</td>\n",
              "      <td>35.8</td>\n",
              "      <td>0.545</td>\n",
              "      <td>21</td>\n",
              "      <td>0</td>\n",
              "    </tr>\n",
              "    <tr>\n",
              "      <th>1094</th>\n",
              "      <td>105</td>\n",
              "      <td>58</td>\n",
              "      <td>40.0</td>\n",
              "      <td>94.0</td>\n",
              "      <td>34.9</td>\n",
              "      <td>0.225</td>\n",
              "      <td>25</td>\n",
              "      <td>0</td>\n",
              "    </tr>\n",
              "  </tbody>\n",
              "</table>\n",
              "</div>"
            ],
            "text/plain": [
              "      glucose  diastolic  triceps  insulin   bmi    dpf  age  diabetes\n",
              "1090      133        102     28.0    140.0  32.8  0.234   45         1\n",
              "1091      173         82     48.0    465.0  38.4  2.137   25         1\n",
              "1092      118         64     23.0     89.0   0.0  1.731   21         0\n",
              "1093       84         64     22.0     66.0  35.8  0.545   21         0\n",
              "1094      105         58     40.0     94.0  34.9  0.225   25         0"
            ]
          },
          "metadata": {
            "tags": []
          },
          "execution_count": 17
        }
      ]
    },
    {
      "cell_type": "code",
      "metadata": {
        "id": "UpgT0ntudWo1"
      },
      "source": [
        "df['glucose'].fillna(df['glucose'].median(), inplace = True)\n",
        "df['insulin'].fillna(df['insulin'].median(), inplace = True)\n",
        "df['triceps'].fillna(df['triceps'].median(), inplace = True)"
      ],
      "execution_count": null,
      "outputs": []
    },
    {
      "cell_type": "code",
      "metadata": {
        "colab": {
          "base_uri": "https://localhost:8080/",
          "height": 596
        },
        "id": "KbGO87bhfZiL",
        "outputId": "d4bad8af-5672-47d1-a6fe-f8eafb743c96"
      },
      "source": [
        "corrmat = df.corr()\n",
        "top_corr_features = corrmat.index\n",
        "plt.figure(figsize = (10,10))\n",
        "g = sns.heatmap(df[top_corr_features].corr(),annot = True,cmap = \"RdYlGn\")"
      ],
      "execution_count": null,
      "outputs": [
        {
          "output_type": "display_data",
          "data": {
            "image/png": "[encoded data removed]",
            "text/plain": [
              "<Figure size 720x720 with 2 Axes>"
            ]
          },
          "metadata": {
            "tags": [],
            "needs_background": "light"
          }
        }
      ]
    },
    {
      "cell_type": "code",
      "metadata": {
        "colab": {
          "base_uri": "https://localhost:8080/",
          "height": 300
        },
        "id": "4x5zt8GmgZGO",
        "outputId": "66a41249-5d96-455f-d560-3e9919c0d0d5"
      },
      "source": [
        "df.corr()"
      ],
      "execution_count": null,
      "outputs": [
        {
          "output_type": "execute_result",
          "data": {
            "text/html": [
              "<div>\n",
              "<style scoped>\n",
              "    .dataframe tbody tr th:only-of-type {\n",
              "        vertical-align: middle;\n",
              "    }\n",
              "\n",
              "    .dataframe tbody tr th {\n",
              "        vertical-align: top;\n",
              "    }\n",
              "\n",
              "    .dataframe thead th {\n",
              "        text-align: right;\n",
              "    }\n",
              "</style>\n",
              "<table border=\"1\" class=\"dataframe\">\n",
              "  <thead>\n",
              "    <tr style=\"text-align: right;\">\n",
              "      <th></th>\n",
              "      <th>glucose</th>\n",
              "      <th>diastolic</th>\n",
              "      <th>triceps</th>\n",
              "      <th>insulin</th>\n",
              "      <th>bmi</th>\n",
              "      <th>dpf</th>\n",
              "      <th>age</th>\n",
              "      <th>diabetes</th>\n",
              "    </tr>\n",
              "  </thead>\n",
              "  <tbody>\n",
              "    <tr>\n",
              "      <th>glucose</th>\n",
              "      <td>1.000000</td>\n",
              "      <td>0.147855</td>\n",
              "      <td>0.046341</td>\n",
              "      <td>0.328084</td>\n",
              "      <td>0.216236</td>\n",
              "      <td>0.132234</td>\n",
              "      <td>0.234674</td>\n",
              "      <td>0.472506</td>\n",
              "    </tr>\n",
              "    <tr>\n",
              "      <th>diastolic</th>\n",
              "      <td>0.147855</td>\n",
              "      <td>1.000000</td>\n",
              "      <td>0.205010</td>\n",
              "      <td>0.086940</td>\n",
              "      <td>0.286972</td>\n",
              "      <td>0.044169</td>\n",
              "      <td>0.229204</td>\n",
              "      <td>0.072758</td>\n",
              "    </tr>\n",
              "    <tr>\n",
              "      <th>triceps</th>\n",
              "      <td>0.046341</td>\n",
              "      <td>0.205010</td>\n",
              "      <td>1.000000</td>\n",
              "      <td>0.445494</td>\n",
              "      <td>0.385781</td>\n",
              "      <td>0.195133</td>\n",
              "      <td>-0.110595</td>\n",
              "      <td>0.069073</td>\n",
              "    </tr>\n",
              "    <tr>\n",
              "      <th>insulin</th>\n",
              "      <td>0.328084</td>\n",
              "      <td>0.086940</td>\n",
              "      <td>0.445494</td>\n",
              "      <td>1.000000</td>\n",
              "      <td>0.197047</td>\n",
              "      <td>0.181838</td>\n",
              "      <td>-0.082269</td>\n",
              "      <td>0.121754</td>\n",
              "    </tr>\n",
              "    <tr>\n",
              "      <th>bmi</th>\n",
              "      <td>0.216236</td>\n",
              "      <td>0.286972</td>\n",
              "      <td>0.385781</td>\n",
              "      <td>0.197047</td>\n",
              "      <td>1.000000</td>\n",
              "      <td>0.115027</td>\n",
              "      <td>0.044977</td>\n",
              "      <td>0.278128</td>\n",
              "    </tr>\n",
              "    <tr>\n",
              "      <th>dpf</th>\n",
              "      <td>0.132234</td>\n",
              "      <td>0.044169</td>\n",
              "      <td>0.195133</td>\n",
              "      <td>0.181838</td>\n",
              "      <td>0.115027</td>\n",
              "      <td>1.000000</td>\n",
              "      <td>0.006898</td>\n",
              "      <td>0.146874</td>\n",
              "    </tr>\n",
              "    <tr>\n",
              "      <th>age</th>\n",
              "      <td>0.234674</td>\n",
              "      <td>0.229204</td>\n",
              "      <td>-0.110595</td>\n",
              "      <td>-0.082269</td>\n",
              "      <td>0.044977</td>\n",
              "      <td>0.006898</td>\n",
              "      <td>1.000000</td>\n",
              "      <td>0.241393</td>\n",
              "    </tr>\n",
              "    <tr>\n",
              "      <th>diabetes</th>\n",
              "      <td>0.472506</td>\n",
              "      <td>0.072758</td>\n",
              "      <td>0.069073</td>\n",
              "      <td>0.121754</td>\n",
              "      <td>0.278128</td>\n",
              "      <td>0.146874</td>\n",
              "      <td>0.241393</td>\n",
              "      <td>1.000000</td>\n",
              "    </tr>\n",
              "  </tbody>\n",
              "</table>\n",
              "</div>"
            ],
            "text/plain": [
              "            glucose  diastolic   triceps  ...       dpf       age  diabetes\n",
              "glucose    1.000000   0.147855  0.046341  ...  0.132234  0.234674  0.472506\n",
              "diastolic  0.147855   1.000000  0.205010  ...  0.044169  0.229204  0.072758\n",
              "triceps    0.046341   0.205010  1.000000  ...  0.195133 -0.110595  0.069073\n",
              "insulin    0.328084   0.086940  0.445494  ...  0.181838 -0.082269  0.121754\n",
              "bmi        0.216236   0.286972  0.385781  ...  0.115027  0.044977  0.278128\n",
              "dpf        0.132234   0.044169  0.195133  ...  1.000000  0.006898  0.146874\n",
              "age        0.234674   0.229204 -0.110595  ...  0.006898  1.000000  0.241393\n",
              "diabetes   0.472506   0.072758  0.069073  ...  0.146874  0.241393  1.000000\n",
              "\n",
              "[8 rows x 8 columns]"
            ]
          },
          "metadata": {
            "tags": []
          },
          "execution_count": 20
        }
      ]
    },
    {
      "cell_type": "code",
      "metadata": {
        "colab": {
          "base_uri": "https://localhost:8080/",
          "height": 607
        },
        "id": "H9GH5NKbg7Qr",
        "outputId": "9e66602a-7d3d-4ee0-afed-12ebda88248e"
      },
      "source": [
        "p = df.hist(figsize = (10,10))"
      ],
      "execution_count": null,
      "outputs": [
        {
          "output_type": "display_data",
          "data": {
            "image/png": "[encoded data removed]",
            "text/plain": [
              "<Figure size 720x720 with 9 Axes>"
            ]
          },
          "metadata": {
            "tags": [],
            "needs_background": "light"
          }
        }
      ]
    },
    {
      "cell_type": "code",
      "metadata": {
        "id": "bI2GmIlnKon8"
      },
      "source": [
        "X = df.drop(columns = ['diabetes'])\n",
        "y = df['diabetes']"
      ],
      "execution_count": null,
      "outputs": []
    },
    {
      "cell_type": "code",
      "metadata": {
        "id": "tzLJgg2AKs9N"
      },
      "source": [
        "X_train, X_test, y_train, y_test = train_test_split(X, y, test_size=0.25, stratify=y)"
      ],
      "execution_count": null,
      "outputs": []
    },
    {
      "cell_type": "code",
      "metadata": {
        "id": "OSR-s0yVm4vE"
      },
      "source": [
        "from sklearn.tree import DecisionTreeClassifier"
      ],
      "execution_count": null,
      "outputs": []
    },
    {
      "cell_type": "code",
      "metadata": {
        "id": "su1b0_pHYtXq",
        "colab": {
          "base_uri": "https://localhost:8080/"
        },
        "outputId": "cacb8d73-566a-49a8-b5ec-fb1f6282a9c6"
      },
      "source": [
        "knn = KNeighborsClassifier()\n",
        "\n",
        "knn.fit(X_train, y_train)"
      ],
      "execution_count": null,
      "outputs": [
        {
          "output_type": "execute_result",
          "data": {
            "text/plain": [
              "KNeighborsClassifier(algorithm='auto', leaf_size=30, metric='minkowski',\n",
              "                     metric_params=None, n_jobs=None, n_neighbors=5, p=2,\n",
              "                     weights='uniform')"
            ]
          },
          "metadata": {
            "tags": []
          },
          "execution_count": 25
        }
      ]
    },
    {
      "cell_type": "code",
      "metadata": {
        "colab": {
          "base_uri": "https://localhost:8080/"
        },
        "id": "7XWXjB5RaIfi",
        "outputId": "7e88decb-8500-4003-c223-b9346092b885"
      },
      "source": [
        "knn.score(X_test,y_test)"
      ],
      "execution_count": null,
      "outputs": [
        {
          "output_type": "execute_result",
          "data": {
            "text/plain": [
              "0.7737226277372263"
            ]
          },
          "metadata": {
            "tags": []
          },
          "execution_count": 26
        }
      ]
    },
    {
      "cell_type": "code",
      "metadata": {
        "colab": {
          "base_uri": "https://localhost:8080/"
        },
        "id": "dsvzvYK6K3Aw",
        "outputId": "9ec3ec4a-4a92-4cd7-e873-7dd400fc2dfc"
      },
      "source": [
        "rf = RandomForestClassifier()\n",
        "rf.fit(X_train, y_train)"
      ],
      "execution_count": null,
      "outputs": [
        {
          "output_type": "execute_result",
          "data": {
            "text/plain": [
              "RandomForestClassifier(bootstrap=True, ccp_alpha=0.0, class_weight=None,\n",
              "                       criterion='gini', max_depth=None, max_features='auto',\n",
              "                       max_leaf_nodes=None, max_samples=None,\n",
              "                       min_impurity_decrease=0.0, min_impurity_split=None,\n",
              "                       min_samples_leaf=1, min_samples_split=2,\n",
              "                       min_weight_fraction_leaf=0.0, n_estimators=100,\n",
              "                       n_jobs=None, oob_score=False, random_state=None,\n",
              "                       verbose=0, warm_start=False)"
            ]
          },
          "metadata": {
            "tags": []
          },
          "execution_count": 27
        }
      ]
    },
    {
      "cell_type": "code",
      "metadata": {
        "id": "QUxzGOLuK-gI"
      },
      "source": [
        "y_pred=rf.predict(X_test)"
      ],
      "execution_count": null,
      "outputs": []
    },
    {
      "cell_type": "code",
      "metadata": {
        "colab": {
          "base_uri": "https://localhost:8080/"
        },
        "id": "ER1-EcEoLW6u",
        "outputId": "7dfe56bc-7027-4df3-b347-59d2be7f5450"
      },
      "source": [
        "rf.score(X_test,y_test)"
      ],
      "execution_count": null,
      "outputs": [
        {
          "output_type": "execute_result",
          "data": {
            "text/plain": [
              "0.8467153284671532"
            ]
          },
          "metadata": {
            "tags": []
          },
          "execution_count": 29
        }
      ]
    },
    {
      "cell_type": "code",
      "metadata": {
        "colab": {
          "base_uri": "https://localhost:8080/"
        },
        "id": "cTNM1ib3jVWL",
        "outputId": "a8f62c85-c6a5-4d08-99c2-d0d23d083ad9"
      },
      "source": [
        "cross_val_rf= cross_val_score(rf,X_train,y_train,cv = 10,scoring = \"f1_macro\")\n",
        "cross_val_rf"
      ],
      "execution_count": null,
      "outputs": [
        {
          "output_type": "execute_result",
          "data": {
            "text/plain": [
              "array([0.85045045, 0.87689741, 0.89329863, 0.82792575, 0.87899656,\n",
              "       0.86441799, 0.84667687, 0.77472527, 0.88956229, 0.81018519])"
            ]
          },
          "metadata": {
            "tags": []
          },
          "execution_count": 30
        }
      ]
    },
    {
      "cell_type": "code",
      "metadata": {
        "colab": {
          "base_uri": "https://localhost:8080/"
        },
        "id": "O0etKXEzLcbe",
        "outputId": "daf2e863-b8cb-48e7-da5a-a427c1e03590"
      },
      "source": [
        "log_reg = LogisticRegression()\n",
        "\n",
        "log_reg.fit(X_train, y_train)"
      ],
      "execution_count": null,
      "outputs": [
        {
          "output_type": "stream",
          "text": [
            "/usr/local/lib/python3.7/dist-packages/sklearn/linear_model/_logistic.py:940: ConvergenceWarning: lbfgs failed to converge (status=1):\n",
            "STOP: TOTAL NO. of ITERATIONS REACHED LIMIT.\n",
            "\n",
            "Increase the number of iterations (max_iter) or scale the data as shown in:\n",
            "    https://scikit-learn.org/stable/modules/preprocessing.html\n",
            "Please also refer to the documentation for alternative solver options:\n",
            "    https://scikit-learn.org/stable/modules/linear_model.html#logistic-regression\n",
            "  extra_warning_msg=_LOGISTIC_SOLVER_CONVERGENCE_MSG)\n"
          ],
          "name": "stderr"
        },
        {
          "output_type": "execute_result",
          "data": {
            "text/plain": [
              "LogisticRegression(C=1.0, class_weight=None, dual=False, fit_intercept=True,\n",
              "                   intercept_scaling=1, l1_ratio=None, max_iter=100,\n",
              "                   multi_class='auto', n_jobs=None, penalty='l2',\n",
              "                   random_state=None, solver='lbfgs', tol=0.0001, verbose=0,\n",
              "                   warm_start=False)"
            ]
          },
          "metadata": {
            "tags": []
          },
          "execution_count": 31
        }
      ]
    },
    {
      "cell_type": "code",
      "metadata": {
        "colab": {
          "base_uri": "https://localhost:8080/"
        },
        "id": "SsTijGcBVmWy",
        "outputId": "0406597d-d018-4644-e745-b676c23379c8"
      },
      "source": [
        "log_reg.score(X_test,y_test)"
      ],
      "execution_count": null,
      "outputs": [
        {
          "output_type": "execute_result",
          "data": {
            "text/plain": [
              "0.7481751824817519"
            ]
          },
          "metadata": {
            "tags": []
          },
          "execution_count": 32
        }
      ]
    },
    {
      "cell_type": "code",
      "metadata": {
        "colab": {
          "base_uri": "https://localhost:8080/"
        },
        "id": "eWQI0fa2P4fI",
        "outputId": "fe151375-f52c-4f8d-a423-aad83b281df5"
      },
      "source": [
        "cross_val_log = cross_val_score(log_reg,X_train,y_train,cv=10,scoring=\"f1_macro\")\n",
        "cross_val_log"
      ],
      "execution_count": null,
      "outputs": [
        {
          "output_type": "stream",
          "text": [
            "/usr/local/lib/python3.7/dist-packages/sklearn/linear_model/_logistic.py:940: ConvergenceWarning: lbfgs failed to converge (status=1):\n",
            "STOP: TOTAL NO. of ITERATIONS REACHED LIMIT.\n",
            "\n",
            "Increase the number of iterations (max_iter) or scale the data as shown in:\n",
            "    https://scikit-learn.org/stable/modules/preprocessing.html\n",
            "Please also refer to the documentation for alternative solver options:\n",
            "    https://scikit-learn.org/stable/modules/linear_model.html#logistic-regression\n",
            "  extra_warning_msg=_LOGISTIC_SOLVER_CONVERGENCE_MSG)\n",
            "/usr/local/lib/python3.7/dist-packages/sklearn/linear_model/_logistic.py:940: ConvergenceWarning: lbfgs failed to converge (status=1):\n",
            "STOP: TOTAL NO. of ITERATIONS REACHED LIMIT.\n",
            "\n",
            "Increase the number of iterations (max_iter) or scale the data as shown in:\n",
            "    https://scikit-learn.org/stable/modules/preprocessing.html\n",
            "Please also refer to the documentation for alternative solver options:\n",
            "    https://scikit-learn.org/stable/modules/linear_model.html#logistic-regression\n",
            "  extra_warning_msg=_LOGISTIC_SOLVER_CONVERGENCE_MSG)\n",
            "/usr/local/lib/python3.7/dist-packages/sklearn/linear_model/_logistic.py:940: ConvergenceWarning: lbfgs failed to converge (status=1):\n",
            "STOP: TOTAL NO. of ITERATIONS REACHED LIMIT.\n",
            "\n",
            "Increase the number of iterations (max_iter) or scale the data as shown in:\n",
            "    https://scikit-learn.org/stable/modules/preprocessing.html\n",
            "Please also refer to the documentation for alternative solver options:\n",
            "    https://scikit-learn.org/stable/modules/linear_model.html#logistic-regression\n",
            "  extra_warning_msg=_LOGISTIC_SOLVER_CONVERGENCE_MSG)\n",
            "/usr/local/lib/python3.7/dist-packages/sklearn/linear_model/_logistic.py:940: ConvergenceWarning: lbfgs failed to converge (status=1):\n",
            "STOP: TOTAL NO. of ITERATIONS REACHED LIMIT.\n",
            "\n",
            "Increase the number of iterations (max_iter) or scale the data as shown in:\n",
            "    https://scikit-learn.org/stable/modules/preprocessing.html\n",
            "Please also refer to the documentation for alternative solver options:\n",
            "    https://scikit-learn.org/stable/modules/linear_model.html#logistic-regression\n",
            "  extra_warning_msg=_LOGISTIC_SOLVER_CONVERGENCE_MSG)\n",
            "/usr/local/lib/python3.7/dist-packages/sklearn/linear_model/_logistic.py:940: ConvergenceWarning: lbfgs failed to converge (status=1):\n",
            "STOP: TOTAL NO. of ITERATIONS REACHED LIMIT.\n",
            "\n",
            "Increase the number of iterations (max_iter) or scale the data as shown in:\n",
            "    https://scikit-learn.org/stable/modules/preprocessing.html\n",
            "Please also refer to the documentation for alternative solver options:\n",
            "    https://scikit-learn.org/stable/modules/linear_model.html#logistic-regression\n",
            "  extra_warning_msg=_LOGISTIC_SOLVER_CONVERGENCE_MSG)\n"
          ],
          "name": "stderr"
        },
        {
          "output_type": "execute_result",
          "data": {
            "text/plain": [
              "array([0.79211888, 0.83104396, 0.66530612, 0.71276063, 0.75261757,\n",
              "       0.66208791, 0.80288462, 0.66764923, 0.73491379, 0.75151515])"
            ]
          },
          "metadata": {
            "tags": []
          },
          "execution_count": 33
        }
      ]
    },
    {
      "cell_type": "code",
      "metadata": {
        "colab": {
          "base_uri": "https://localhost:8080/"
        },
        "id": "xRhFwtINM1xY",
        "outputId": "dccc6faf-5eb0-4ec6-9582-dbc91b4fb099"
      },
      "source": [
        "from sklearn.tree import DecisionTreeClassifier\n",
        "dt = DecisionTreeClassifier()\n",
        "dt.fit(X_train, y_train)"
      ],
      "execution_count": null,
      "outputs": [
        {
          "output_type": "execute_result",
          "data": {
            "text/plain": [
              "DecisionTreeClassifier(ccp_alpha=0.0, class_weight=None, criterion='gini',\n",
              "                       max_depth=None, max_features=None, max_leaf_nodes=None,\n",
              "                       min_impurity_decrease=0.0, min_impurity_split=None,\n",
              "                       min_samples_leaf=1, min_samples_split=2,\n",
              "                       min_weight_fraction_leaf=0.0, presort='deprecated',\n",
              "                       random_state=None, splitter='best')"
            ]
          },
          "metadata": {
            "tags": []
          },
          "execution_count": 34
        }
      ]
    },
    {
      "cell_type": "code",
      "metadata": {
        "colab": {
          "base_uri": "https://localhost:8080/"
        },
        "id": "cQlmapdhOSkH",
        "outputId": "e2912d97-8ee8-4a1f-b3c2-de2493e58f5f"
      },
      "source": [
        "cross_val_dt = cross_val_score(dt,X_train,y_train,cv = 10,scoring = \"f1_macro\")\n",
        "cross_val_dt"
      ],
      "execution_count": null,
      "outputs": [
        {
          "output_type": "execute_result",
          "data": {
            "text/plain": [
              "array([0.81983637, 0.82218515, 0.86858974, 0.83994795, 0.77143794,\n",
              "       0.82521725, 0.78974359, 0.80673401, 0.78974359, 0.85439871])"
            ]
          },
          "metadata": {
            "tags": []
          },
          "execution_count": 35
        }
      ]
    },
    {
      "cell_type": "code",
      "metadata": {
        "id": "vxRR4FSNNBM2",
        "colab": {
          "base_uri": "https://localhost:8080/"
        },
        "outputId": "0e32f646-b979-45be-d73e-68902ede9855"
      },
      "source": [
        "y_pred_dt = dt.predict(X_test)\n",
        "dt.score(X_test,y_test)"
      ],
      "execution_count": null,
      "outputs": [
        {
          "output_type": "execute_result",
          "data": {
            "text/plain": [
              "0.8211678832116789"
            ]
          },
          "metadata": {
            "tags": []
          },
          "execution_count": 36
        }
      ]
    },
    {
      "cell_type": "code",
      "metadata": {
        "colab": {
          "base_uri": "https://localhost:8080/"
        },
        "id": "xiKbiI_LvzGN",
        "outputId": "b409f448-70e4-4d0c-cc5e-3b50a0ba8da4"
      },
      "source": [
        "print(\"Random Forest       \")\n",
        "print(cross_val_rf)\n",
        "\n",
        "print(\"Decision Tree       \")\n",
        "print(cross_val_dt)\n",
        "\n",
        "print(\"Logistic Regression \")\n",
        "print(cross_val_log)\n"
      ],
      "execution_count": null,
      "outputs": [
        {
          "output_type": "stream",
          "text": [
            "Random Forest       \n",
            "[0.85045045 0.87689741 0.89329863 0.82792575 0.87899656 0.86441799\n",
            " 0.84667687 0.77472527 0.88956229 0.81018519]\n",
            "Decision Tree       \n",
            "[0.81983637 0.82218515 0.86858974 0.83994795 0.77143794 0.82521725\n",
            " 0.78974359 0.80673401 0.78974359 0.85439871]\n",
            "Logistic Regression \n",
            "[0.79211888 0.83104396 0.66530612 0.71276063 0.75261757 0.66208791\n",
            " 0.80288462 0.66764923 0.73491379 0.75151515]\n"
          ],
          "name": "stdout"
        }
      ]
    },
    {
      "cell_type": "code",
      "metadata": {
        "colab": {
          "base_uri": "https://localhost:8080/",
          "height": 265
        },
        "id": "7_KftkjlznSo",
        "outputId": "7e6a3ba1-5e70-4b51-8d8a-91e741b1d298"
      },
      "source": [
        "import math\n",
        "import matplotlib.pyplot as plt\n",
        "fig = plt.figure()\n",
        "algo=['Random Forest','Decision Tree','Logistic','K-Nearest Neighbour']\n",
        "accur = [math.ceil(rf.score(X_test,y_test)*100),math.ceil(dt.score(X_test,y_test)*100),math.ceil(log_reg.score(X_test,y_test)*100),math.ceil(knn.score(X_test,y_test)*100)]\n",
        "plt.bar(algo,accur)\n",
        "plt.show()"
      ],
      "execution_count": null,
      "outputs": [
        {
          "output_type": "display_data",
          "data": {
            "image/png": "[encoded data removed]",
            "text/plain": [
              "<Figure size 432x288 with 1 Axes>"
            ]
          },
          "metadata": {
            "tags": [],
            "needs_background": "light"
          }
        }
      ]
    },
    {
      "cell_type": "code",
      "metadata": {
        "colab": {
          "base_uri": "https://localhost:8080/",
          "height": 295
        },
        "id": "dqHG_lHKDWFb",
        "outputId": "8bde8d05-aa49-4d6e-f9f1-b4eb7d2b7764"
      },
      "source": [
        "x1 = [1,2,3,4,5,6,7,8,9,10,]\n",
        "y1 = cross_val_rf\n",
        "# plotting the line 1 points \n",
        "plt.plot(x1, y1, label = \"Random Forest\")\n",
        "# line 2 points\n",
        "x2 = [1,2,3,4,5,6,7,8,9,10]\n",
        "y2 = cross_val_log\n",
        "# plotting the line 2 points \n",
        "plt.plot(x2, y2, label = \"Logistic Regression\")\n",
        "x3 = [1,2,3,4,5,6,7,8,9,10,]\n",
        "#y3= cross_val_knn\n",
        "# plotting the line 1 points \n",
        "#plt.plot(x3, y3, label = \"K-nearest Neighbor\")\n",
        "x4=[1,2,3,4,5,6,7,8,9,10]\n",
        "y4=cross_val_dt\n",
        "plt.plot(x4,y4,label=\"Decision Tree\")\n",
        "plt.xlabel('No.of Folds')\n",
        "# Set the y axis label of the current axis.\n",
        "plt.ylabel('Scores')\n",
        "# Set a title of the current axes.\n",
        "plt.title('The scores of the 10 fold cross validation')\n",
        "# show a legend on the plot\n",
        "plt.legend()\n",
        "# Display a figure.\n",
        "plt.show()"
      ],
      "execution_count": null,
      "outputs": [
        {
          "output_type": "display_data",
          "data": {
            "image/png": "[encoded data removed]",
            "text/plain": [
              "<Figure size 432x288 with 1 Axes>"
            ]
          },
          "metadata": {
            "tags": [],
            "needs_background": "light"
          }
        }
      ]
    },
    {
      "cell_type": "code",
      "metadata": {
        "id": "4A1nfIkJaN8R"
      },
      "source": [
        "from sklearn.metrics import accuracy_score"
      ],
      "execution_count": null,
      "outputs": []
    },
    {
      "cell_type": "code",
      "metadata": {
        "colab": {
          "base_uri": "https://localhost:8080/"
        },
        "id": "-6MZGFJbaVSh",
        "outputId": "88c28924-27e1-41a7-d8b2-14ecc8360e7a"
      },
      "source": [
        "print(accuracy_score(y_test, rf.predict(X_test))*100)"
      ],
      "execution_count": null,
      "outputs": [
        {
          "output_type": "stream",
          "text": [
            "84.67153284671532\n"
          ],
          "name": "stdout"
        }
      ]
    },
    {
      "cell_type": "code",
      "metadata": {
        "id": "5A9oLgmsarE5"
      },
      "source": [
        "import pickle\n",
        "pickle.dump(rf, open(\"diabetes.pkl\",'wb'))"
      ],
      "execution_count": null,
      "outputs": []
    }
  ]
}